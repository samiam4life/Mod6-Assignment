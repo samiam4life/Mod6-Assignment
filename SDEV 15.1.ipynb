{
 "cells": [
  {
   "cell_type": "code",
   "execution_count": 1,
   "id": "814c2c1b",
   "metadata": {},
   "outputs": [
    {
     "name": "stdout",
     "output_type": "stream",
     "text": [
      "Today's date and time is 2023-12-04 22:35:58.583404\n",
      "Today's date and time is 2023-12-04 22:35:59.390253\n",
      "Today's date and time is 2023-12-04 22:35:59.637751\n",
      "Completed\n"
     ]
    }
   ],
   "source": [
    "import multiprocessing\n",
    "from datetime import datetime\n",
    "import time\n",
    "import random\n",
    "\n",
    "\n",
    "def print_time():\n",
    "    now = datetime.now()\n",
    "    print(\"Today's date and time is {}\".format(now))\n",
    "    time.sleep(random.random())\n",
    "\n",
    "\n",
    "if __name__ == '__main__':\n",
    "    time1 = multiprocessing.Process(target=print_time())\n",
    "    time2 = multiprocessing.Process(target=print_time())\n",
    "    time3 = multiprocessing.Process(target=print_time())\n",
    "    time1.start()\n",
    "    time2.start()\n",
    "    time3.start()\n",
    "    time1.join()\n",
    "    time2.join()\n",
    "    time3.join()\n",
    "\n",
    "    print('Finished')"
   ]
  },
  {
   "cell_type": "code",
   "execution_count": null,
   "id": "4f8e870b",
   "metadata": {},
   "outputs": [],
   "source": []
  }
 ],
 "metadata": {
  "kernelspec": {
   "display_name": "Python 3 (ipykernel)",
   "language": "python",
   "name": "python3"
  },
  "language_info": {
   "codemirror_mode": {
    "name": "ipython",
    "version": 3
   },
   "file_extension": ".py",
   "mimetype": "text/x-python",
   "name": "python",
   "nbconvert_exporter": "python",
   "pygments_lexer": "ipython3",
   "version": "3.11.5"
  }
 },
 "nbformat": 4,
 "nbformat_minor": 5
}
